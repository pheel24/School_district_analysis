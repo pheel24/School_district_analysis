{
 "cells": [
  {
   "cell_type": "code",
   "execution_count": 78,
   "id": "b3c8880f",
   "metadata": {},
   "outputs": [],
   "source": [
    "import pandas as pd\n"
   ]
  },
  {
   "cell_type": "code",
   "execution_count": 27,
   "id": "52b76cc2",
   "metadata": {},
   "outputs": [
    {
     "name": "stdout",
     "output_type": "stream",
     "text": [
      "Hernandez High School\n",
      "Figueroa High School\n",
      "Wilson High School\n",
      "Wright High School\n"
     ]
    }
   ],
   "source": [
    "# hs list\n",
    "high_schools=[\"Hernandez High School\", \"Figueroa High School\", \"Wilson High School\", \"Wright High School\"]\n",
    "\n",
    "school_series=pd.Series(high_schools)\n",
    "for school in school_series:\n",
    "    print(school)"
   ]
  },
  {
   "cell_type": "code",
   "execution_count": 28,
   "id": "1975f1b3",
   "metadata": {},
   "outputs": [
    {
     "name": "stdout",
     "output_type": "stream",
     "text": [
      "Hernandez High School\n",
      "Figueroa High School\n",
      "Wilson High School\n",
      "Wright High School\n"
     ]
    }
   ],
   "source": [
    "for school in high_schools:\n",
    "    print(school)"
   ]
  },
  {
   "cell_type": "code",
   "execution_count": 29,
   "id": "c8d64ad6",
   "metadata": {},
   "outputs": [],
   "source": [
    "# A dictionary of high schools\n",
    "high_school_dicts = [{\"School ID\": 0, \"school_name\": \"Huang High    School\", \"type\": \"District\"},\n",
    "                   {\"School ID\": 1, \"school_name\": \"Figueroa High School\", \"type\": \"District\"},\n",
    "                    {\"School ID\": 2, \"school_name\":\"Shelton High School\", \"type\": \"Charter\"},\n",
    "                    {\"School ID\": 3, \"school_name\":\"Hernandez High School\", \"type\": \"District\"},\n",
    "                    {\"School ID\": 4, \"school_name\":\"Griffin High School\", \"type\": \"Charter\"}]\n",
    "school_df=pd.DataFrame(high_school_dicts)"
   ]
  },
  {
   "cell_type": "code",
   "execution_count": 30,
   "id": "c62182ac",
   "metadata": {},
   "outputs": [
    {
     "name": "stdout",
     "output_type": "stream",
     "text": [
      "{'High School': 'Griffin', 'Type': 'District'}\n",
      "{'High School': 'Figueroa', 'Type': 'District'}\n",
      "{'High School': 'Wilson', 'Type': 'Charter'}\n",
      "{'High School': 'Wright', 'Type': 'Charter'}\n"
     ]
    }
   ],
   "source": [
    "#school type dict\n",
    "high_school_types = [{\"High School\": \"Griffin\", \"Type\":\"District\"},\n",
    "                    {\"High School\": \"Figueroa\", \"Type\": \"District\"},\n",
    "                    {\"High School\": \"Wilson\", \"Type\": \"Charter\"},\n",
    "                    {\"High School\": \"Wright\", \"Type\": \"Charter\"}]\n",
    "for school in high_school_types:\n",
    "    print(school)"
   ]
  },
  {
   "cell_type": "code",
   "execution_count": 31,
   "id": "338c0dfb",
   "metadata": {},
   "outputs": [],
   "source": [
    "# 3 separate info lists on hs\n",
    "school_id=[0,1,2,3,4]\n",
    "\n",
    "school_name= [\"Huang High School\", \"Figueroa High School\", \"Shelton High School\",\n",
    "             \"Hernandez High School\", \"Griffin High School\"]\n",
    "\n",
    "type_of_school= [\"District\", \"District\", \"Charter\", \"District\",\"Charter\"]\n"
   ]
  },
  {
   "cell_type": "code",
   "execution_count": 51,
   "id": "8a7d4d5a",
   "metadata": {},
   "outputs": [],
   "source": [
    "# new dataframe\n",
    "schools_df=pd.DataFrame()\n",
    "\n",
    "schools_df[\"School ID\"]= school_id\n",
    "\n",
    "schools_df[\"School Name\"]= school_name\n",
    "\n",
    "schools_df[\"Type of School\"]= type_of_school\n",
    "\n",
    "schools_df\n",
    "jane_says=\"Im done with sergio\""
   ]
  },
  {
   "cell_type": "code",
   "execution_count": 33,
   "id": "2e6bd697",
   "metadata": {},
   "outputs": [
    {
     "data": {
      "text/html": [
       "<div>\n",
       "<style scoped>\n",
       "    .dataframe tbody tr th:only-of-type {\n",
       "        vertical-align: middle;\n",
       "    }\n",
       "\n",
       "    .dataframe tbody tr th {\n",
       "        vertical-align: top;\n",
       "    }\n",
       "\n",
       "    .dataframe thead th {\n",
       "        text-align: right;\n",
       "    }\n",
       "</style>\n",
       "<table border=\"1\" class=\"dataframe\">\n",
       "  <thead>\n",
       "    <tr style=\"text-align: right;\">\n",
       "      <th></th>\n",
       "    </tr>\n",
       "  </thead>\n",
       "  <tbody>\n",
       "  </tbody>\n",
       "</table>\n",
       "</div>"
      ],
      "text/plain": [
       "Empty DataFrame\n",
       "Columns: []\n",
       "Index: []"
      ]
     },
     "execution_count": 33,
     "metadata": {},
     "output_type": "execute_result"
    }
   ],
   "source": [
    "# Create a dictionary of information on high schools.\n",
    "high_schools_dict = {'School ID': school_id, 'school_name':school_name, 'type':type_of_school}\n",
    "high_schools_dict =pd.DataFrame()\n",
    "high_schools_dict"
   ]
  },
  {
   "cell_type": "code",
   "execution_count": 43,
   "id": "5e921abf",
   "metadata": {},
   "outputs": [
    {
     "data": {
      "text/html": [
       "<div>\n",
       "<style scoped>\n",
       "    .dataframe tbody tr th:only-of-type {\n",
       "        vertical-align: middle;\n",
       "    }\n",
       "\n",
       "    .dataframe tbody tr th {\n",
       "        vertical-align: top;\n",
       "    }\n",
       "\n",
       "    .dataframe thead th {\n",
       "        text-align: right;\n",
       "    }\n",
       "</style>\n",
       "<table border=\"1\" class=\"dataframe\">\n",
       "  <thead>\n",
       "    <tr style=\"text-align: right;\">\n",
       "      <th></th>\n",
       "      <th>School ID</th>\n",
       "      <th>School Name</th>\n",
       "      <th>School Type</th>\n",
       "    </tr>\n",
       "  </thead>\n",
       "  <tbody>\n",
       "    <tr>\n",
       "      <th>0</th>\n",
       "      <td>0</td>\n",
       "      <td>Huang</td>\n",
       "      <td>D</td>\n",
       "    </tr>\n",
       "    <tr>\n",
       "      <th>1</th>\n",
       "      <td>1</td>\n",
       "      <td>Figueroa</td>\n",
       "      <td>D</td>\n",
       "    </tr>\n",
       "    <tr>\n",
       "      <th>2</th>\n",
       "      <td>2</td>\n",
       "      <td>Shelton</td>\n",
       "      <td>C</td>\n",
       "    </tr>\n",
       "    <tr>\n",
       "      <th>3</th>\n",
       "      <td>3</td>\n",
       "      <td>Hernandez</td>\n",
       "      <td>D</td>\n",
       "    </tr>\n",
       "    <tr>\n",
       "      <th>4</th>\n",
       "      <td>4</td>\n",
       "      <td>Griffin</td>\n",
       "      <td>C</td>\n",
       "    </tr>\n",
       "    <tr>\n",
       "      <th>5</th>\n",
       "      <td>5</td>\n",
       "      <td>Wilson</td>\n",
       "      <td>C</td>\n",
       "    </tr>\n",
       "    <tr>\n",
       "      <th>6</th>\n",
       "      <td>6</td>\n",
       "      <td>Cabrera</td>\n",
       "      <td>C</td>\n",
       "    </tr>\n",
       "    <tr>\n",
       "      <th>7</th>\n",
       "      <td>7</td>\n",
       "      <td>Bailey</td>\n",
       "      <td>D</td>\n",
       "    </tr>\n",
       "    <tr>\n",
       "      <th>8</th>\n",
       "      <td>8</td>\n",
       "      <td>Holden</td>\n",
       "      <td>C</td>\n",
       "    </tr>\n",
       "    <tr>\n",
       "      <th>9</th>\n",
       "      <td>9</td>\n",
       "      <td>Pena</td>\n",
       "      <td>C</td>\n",
       "    </tr>\n",
       "    <tr>\n",
       "      <th>10</th>\n",
       "      <td>10</td>\n",
       "      <td>Wright</td>\n",
       "      <td>C</td>\n",
       "    </tr>\n",
       "    <tr>\n",
       "      <th>11</th>\n",
       "      <td>11</td>\n",
       "      <td>Rodriguez</td>\n",
       "      <td>D</td>\n",
       "    </tr>\n",
       "    <tr>\n",
       "      <th>12</th>\n",
       "      <td>12</td>\n",
       "      <td>Johnson</td>\n",
       "      <td>D</td>\n",
       "    </tr>\n",
       "    <tr>\n",
       "      <th>13</th>\n",
       "      <td>13</td>\n",
       "      <td>Ford</td>\n",
       "      <td>D</td>\n",
       "    </tr>\n",
       "    <tr>\n",
       "      <th>14</th>\n",
       "      <td>14</td>\n",
       "      <td>Thomas</td>\n",
       "      <td>C</td>\n",
       "    </tr>\n",
       "  </tbody>\n",
       "</table>\n",
       "</div>"
      ],
      "text/plain": [
       "    School ID School Name School Type\n",
       "0           0       Huang           D\n",
       "1           1    Figueroa           D\n",
       "2           2     Shelton           C\n",
       "3           3   Hernandez           D\n",
       "4           4     Griffin           C\n",
       "5           5      Wilson           C\n",
       "6           6     Cabrera           C\n",
       "7           7      Bailey           D\n",
       "8           8      Holden           C\n",
       "9           9        Pena           C\n",
       "10         10      Wright           C\n",
       "11         11   Rodriguez           D\n",
       "12         12     Johnson           D\n",
       "13         13        Ford           D\n",
       "14         14      Thomas           C"
      ]
     },
     "execution_count": 43,
     "metadata": {},
     "output_type": "execute_result"
    }
   ],
   "source": [
    "ID_list = [0,1,2,3,4,5,6,7,8,9,10,11,12,13,14]\n",
    "name_list = [\"Huang\", \"Figueroa\",\"Shelton\",\"Hernandez\",\"Griffin\",\n",
    "            \"Wilson\",\"Cabrera\",\"Bailey\",\"Holden\",\"Pena\",\"Wright\",\n",
    "            \"Rodriguez\",\"Johnson\",\"Ford\",\"Thomas\"]\n",
    "type_list = [\"D\",\"D\",\"C\",\"D\",\"C\",\"C\",\"C\",\"D\",\"C\",\"C\",\"C\",\"D\",\"D\",\"D\",\"C\",]\n",
    "\n",
    "jumbo_school_df = pd.DataFrame()\n",
    "jumbo_school_df[\"School ID\"]=ID_list\n",
    "jumbo_school_df[\"School Name\"]=name_list\n",
    "jumbo_school_df[\"School Type\"]=type_list\n",
    "jumbo_school_df"
   ]
  },
  {
   "cell_type": "code",
   "execution_count": null,
   "id": "e638950d",
   "metadata": {},
   "outputs": [],
   "source": []
  },
  {
   "cell_type": "code",
   "execution_count": 45,
   "id": "a2862d7f",
   "metadata": {},
   "outputs": [],
   "source": [
    "def say_fuku():\n",
    "    print(\"fukufukufukufuku\")"
   ]
  },
  {
   "cell_type": "code",
   "execution_count": 46,
   "id": "8e06ff2c",
   "metadata": {},
   "outputs": [
    {
     "name": "stdout",
     "output_type": "stream",
     "text": [
      "fukufukufukufuku\n"
     ]
    }
   ],
   "source": [
    "say_fuku()"
   ]
  },
  {
   "cell_type": "code",
   "execution_count": 47,
   "id": "dc9619c3",
   "metadata": {},
   "outputs": [],
   "source": [
    "def say_summat(summat):\n",
    "    print(summat)"
   ]
  },
  {
   "cell_type": "code",
   "execution_count": 59,
   "id": "65dfa604",
   "metadata": {},
   "outputs": [
    {
     "ename": "TypeError",
     "evalue": "say_summat() missing 1 required positional argument: 'summat'",
     "output_type": "error",
     "traceback": [
      "\u001b[1;31m---------------------------------------------------------------------------\u001b[0m",
      "\u001b[1;31mTypeError\u001b[0m                                 Traceback (most recent call last)",
      "\u001b[1;32m~\\AppData\\Local\\Temp/ipykernel_6596/3949592155.py\u001b[0m in \u001b[0;36m<module>\u001b[1;34m\u001b[0m\n\u001b[1;32m----> 1\u001b[1;33m \u001b[0msay_summat\u001b[0m\u001b[1;33m(\u001b[0m\u001b[1;33m)\u001b[0m\u001b[1;33m\u001b[0m\u001b[1;33m\u001b[0m\u001b[0m\n\u001b[0m",
      "\u001b[1;31mTypeError\u001b[0m: say_summat() missing 1 required positional argument: 'summat'"
     ]
    }
   ],
   "source": [
    "say_summat()"
   ]
  },
  {
   "cell_type": "code",
   "execution_count": 53,
   "id": "c0d2460f",
   "metadata": {},
   "outputs": [
    {
     "ename": "SyntaxError",
     "evalue": "unexpected EOF while parsing (Temp/ipykernel_6596/2424118732.py, line 1)",
     "output_type": "error",
     "traceback": [
      "\u001b[1;36m  File \u001b[1;32m\"C:\\Users\\kirwa\\AppData\\Local\\Temp/ipykernel_6596/2424118732.py\"\u001b[1;36m, line \u001b[1;32m1\u001b[0m\n\u001b[1;33m    say_summat(jane_says\u001b[0m\n\u001b[1;37m                        ^\u001b[0m\n\u001b[1;31mSyntaxError\u001b[0m\u001b[1;31m:\u001b[0m unexpected EOF while parsing\n"
     ]
    }
   ],
   "source": [
    "say_summat(jane_says)"
   ]
  },
  {
   "cell_type": "code",
   "execution_count": 54,
   "id": "fad85037",
   "metadata": {},
   "outputs": [
    {
     "name": "stdout",
     "output_type": "stream",
     "text": [
      "Im done with sergio\n"
     ]
    }
   ],
   "source": [
    "say_summat(jane_says)"
   ]
  },
  {
   "cell_type": "code",
   "execution_count": 75,
   "id": "6e3619f0",
   "metadata": {},
   "outputs": [],
   "source": [
    "pass_math_count=29730\n",
    "student_count=39170"
   ]
  },
  {
   "cell_type": "code",
   "execution_count": 76,
   "id": "05a063be",
   "metadata": {},
   "outputs": [],
   "source": [
    "# fn for %pass in math\n",
    "def passing_percent(pass_math_count, student_count):\n",
    "    return pass_math_count/float(student_count)*100"
   ]
  },
  {
   "cell_type": "code",
   "execution_count": 77,
   "id": "890b945b",
   "metadata": {},
   "outputs": [
    {
     "data": {
      "text/plain": [
       "75.89992341077355"
      ]
     },
     "execution_count": 77,
     "metadata": {},
     "output_type": "execute_result"
    }
   ],
   "source": [
    "#call fn\n",
    "passing_math_percent(pass_math_count, student_count)"
   ]
  },
  {
   "cell_type": "code",
   "execution_count": 79,
   "id": "c473b285",
   "metadata": {},
   "outputs": [],
   "source": [
    "#list of muh grades\n",
    "my_grades=['B','C','B','D']"
   ]
  },
  {
   "cell_type": "code",
   "execution_count": 80,
   "id": "8a4ea2a5",
   "metadata": {},
   "outputs": [
    {
     "data": {
      "text/plain": [
       "0    B\n",
       "1    C\n",
       "2    B\n",
       "3    D\n",
       "dtype: object"
      ]
     },
     "execution_count": 80,
     "metadata": {},
     "output_type": "execute_result"
    }
   ],
   "source": [
    "#convert my grades to series\n",
    "my_grades=pd.Series(my_grades)\n",
    "my_grades"
   ]
  },
  {
   "cell_type": "code",
   "execution_count": 81,
   "id": "111b9579",
   "metadata": {},
   "outputs": [
    {
     "data": {
      "text/plain": [
       "0    A\n",
       "1    B\n",
       "2    A\n",
       "3    C\n",
       "dtype: object"
      ]
     },
     "execution_count": 81,
     "metadata": {},
     "output_type": "execute_result"
    }
   ],
   "source": [
    "my_grades.map({'B':'A','C':'B','D':'C'})"
   ]
  },
  {
   "cell_type": "code",
   "execution_count": 83,
   "id": "620622c4",
   "metadata": {},
   "outputs": [
    {
     "name": "stdout",
     "output_type": "stream",
     "text": [
      "92\n",
      "85\n",
      "87\n",
      "98\n"
     ]
    }
   ],
   "source": [
    "# Using the format() function.\n",
    "my_grades = [92.34, 84.56, 86.78, 98.32]\n",
    "\n",
    "for grade in my_grades:\n",
    "    print(\"{:.0f}\".format(grade))"
   ]
  },
  {
   "cell_type": "code",
   "execution_count": 88,
   "id": "2e2f93e7",
   "metadata": {},
   "outputs": [
    {
     "data": {
      "text/plain": [
       "0    92.34\n",
       "1    84.56\n",
       "2    86.78\n",
       "3    78.32\n",
       "dtype: float64"
      ]
     },
     "execution_count": 88,
     "metadata": {},
     "output_type": "execute_result"
    }
   ],
   "source": [
    "my_grades=pd.Series([92.34, 84.56, 86.78, 78.32])\n",
    "my_grades.map(\"{:.2f}\".format)\n",
    "my_grades"
   ]
  },
  {
   "cell_type": "code",
   "execution_count": null,
   "id": "e0479664",
   "metadata": {},
   "outputs": [],
   "source": []
  }
 ],
 "metadata": {
  "kernelspec": {
   "display_name": "PythonData",
   "language": "python",
   "name": "pythondata"
  },
  "language_info": {
   "codemirror_mode": {
    "name": "ipython",
    "version": 3
   },
   "file_extension": ".py",
   "mimetype": "text/x-python",
   "name": "python",
   "nbconvert_exporter": "python",
   "pygments_lexer": "ipython3",
   "version": "3.7.11"
  }
 },
 "nbformat": 4,
 "nbformat_minor": 5
}
